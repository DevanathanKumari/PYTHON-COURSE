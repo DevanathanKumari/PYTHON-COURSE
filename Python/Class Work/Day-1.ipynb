{
 "cells": [
  {
   "cell_type": "code",
   "execution_count": 1,
   "id": "9bbb0f26-c6eb-4c0c-9a23-c42e1a99aecf",
   "metadata": {},
   "outputs": [
    {
     "name": "stdout",
     "output_type": "stream",
     "text": [
      "hellow world\n"
     ]
    }
   ],
   "source": [
    "print(\"hellow world\")"
   ]
  },
  {
   "cell_type": "code",
   "execution_count": 3,
   "id": "ea9d5d3c-c643-4c7b-b8b3-c0610468fcc8",
   "metadata": {},
   "outputs": [
    {
     "name": "stdout",
     "output_type": "stream",
     "text": [
      "my_variable\n"
     ]
    }
   ],
   "source": [
    "my_variable=7\n",
    "print(\"my_variable\")"
   ]
  },
  {
   "cell_type": "code",
   "execution_count": 7,
   "id": "dbf3ba2b-a3a0-43e2-9398-f229c657945a",
   "metadata": {},
   "outputs": [
    {
     "name": "stdout",
     "output_type": "stream",
     "text": [
      "value of letter a is:  10\n"
     ]
    }
   ],
   "source": [
    "a=10;\n",
    "b=20;\n",
    "print(\"value of letter a is: \", a)"
   ]
  },
  {
   "cell_type": "code",
   "execution_count": 7,
   "id": "672ec01f-7e96-4ac4-9f56-c2334e8609b4",
   "metadata": {},
   "outputs": [
    {
     "name": "stdout",
     "output_type": "stream",
     "text": [
      "Total number of  50\n"
     ]
    }
   ],
   "source": [
    "# silgle line not run commant\n",
    "Apple=20;\n",
    "banana=30;\n",
    "total=Apple+banana;\n",
    "print(\"Total number of \",total)"
   ]
  },
  {
   "cell_type": "code",
   "execution_count": 3,
   "id": "32430a97-1041-42e4-82b8-1a5ac39ee6ec",
   "metadata": {},
   "outputs": [
    {
     "name": "stdout",
     "output_type": "stream",
     "text": [
      "<class 'str'>\n",
      "Deva\n",
      "<class 'int'>\n",
      "19\n"
     ]
    }
   ],
   "source": [
    "NAME=\"Deva\"\n",
    "age=19;\n",
    "print(type(NAME))\n",
    "print(NAME)\n",
    "print(type(age))\n",
    "print(age)\n"
   ]
  },
  {
   "cell_type": "code",
   "execution_count": 23,
   "id": "8ac5a214-b102-4374-a50f-7662e2d484a9",
   "metadata": {},
   "outputs": [
    {
     "ename": "SyntaxError",
     "evalue": "invalid decimal literal (2894535291.py, line 4)",
     "output_type": "error",
     "traceback": [
      "\u001b[1;36m  Cell \u001b[1;32mIn[23], line 4\u001b[1;36m\u001b[0m\n\u001b[1;33m    k3=8.ij;\u001b[0m\n\u001b[1;37m        ^\u001b[0m\n\u001b[1;31mSyntaxError\u001b[0m\u001b[1;31m:\u001b[0m invalid decimal literal\n"
     ]
    }
   ],
   "source": [
    "k0=8;\n",
    "k1=8.9;\n",
    "k2=8+3j;\n",
    "k3=8.ij;\n",
    "print(int(k1))\n",
    "print(float(k1))\n",
    "print(str(k2))\n",
    "print(complex(k1))"
   ]
  },
  {
   "cell_type": "code",
   "execution_count": null,
   "id": "34f6d495-a604-4bac-b336-c1e5dac6de35",
   "metadata": {},
   "outputs": [],
   "source": []
  }
 ],
 "metadata": {
  "kernelspec": {
   "display_name": "Python 3 (ipykernel)",
   "language": "python",
   "name": "python3"
  },
  "language_info": {
   "codemirror_mode": {
    "name": "ipython",
    "version": 3
   },
   "file_extension": ".py",
   "mimetype": "text/x-python",
   "name": "python",
   "nbconvert_exporter": "python",
   "pygments_lexer": "ipython3",
   "version": "3.13.5"
  }
 },
 "nbformat": 4,
 "nbformat_minor": 5
}
