{
 "cells": [
  {
   "cell_type": "code",
   "execution_count": null,
   "id": "96516eee-57d8-4c35-8a69-e0022908ec62",
   "metadata": {},
   "outputs": [],
   "source": [
    "text = \" hello world \"\n",
    "text2 = \"HELLO123\"\n",
    "text3 = \"Python is fun, Python is powerful!\"\n",
    "\n",
    "print(\"capitalize:\", text.capitalize())          # Hello world\n",
    "print(\"casefold:\", \"Straße\".casefold())          # strasse\n",
    "print(\"center:\", text.center(20, \"-\"))           # --- hello world ----\n",
    "print(\"count:\", text3.count(\"Python\"))           # 2\n",
    "print(\"encode:\", text.encode())                  # b' hello world '\n",
    "print(\"endswith:\", text.endswith(\"world \"))      # True\n",
    "print(\"expandtabs:\", \"a\\tb\\tc\".expandtabs(4))    # a   b   c\n",
    "print(\"find:\", text3.find(\"fun\"))                # 10\n",
    "print(\"format:\", \"My name is {}\".format(\"Vignesh\"))  # My name is Vignesh\n",
    "print(\"format_map:\", \"{name} is {age}\".format_map({'name':'Vignesh','age':22})) # Vignesh is 22\n",
    "print(\"index:\", text3.index(\"fun\"))              # 10\n",
    "print(\"isalnum:\", text2.isalnum())               # True\n",
    "print(\"isalpha:\", \"Hello\".isalpha())             # True\n",
    "print(\"isascii:\", \"Hello\".isascii())             # True\n",
    "print(\"isdecimal:\", \"123\".isdecimal())           # True\n",
    "print(\"isdigit:\", \"²3\".isdigit())                # True (² is digit)\n",
    "print(\"isidentifier:\", \"var1\".isidentifier())    # True\n",
    "print(\"islower:\", \"hello\".islower())             # True\n",
    "print(\"isnumeric:\", \"½\".isnumeric())             # True\n",
    "print(\"isprintable:\", \"Hello\\n\".isprintable())   # False (\\n not printable)\n",
    "print(\"isspace:\", \"   \".isspace())               # True\n",
    "print(\"istitle:\", \"Hello World\".istitle())       # True\n",
    "print(\"isupper:\", text2.isupper())               # True\n",
    "print(\"join:\", \"-\".join([\"one\", \"two\", \"three\"])) # one-two-three\n",
    "print(\"ljust:\", \"hi\".ljust(5, \"\"))              # hi**\n",
    "print(\"lower:\", text2.lower())                   # hello123\n",
    "print(\"lstrip:\", text.lstrip())                  # \"hello world \"\n",
    "print(\"maketrans + translate:\", \"hello\".translate(str.maketrans(\"h\",\"j\"))) # jello\n",
    "print(\"partition:\", text3.partition(\"fun\"))      # ('Python is ', 'fun', ', Python is powerful!')\n",
    "print(\"replace:\", text3.replace(\"Python\", \"AI\")) # AI is fun, AI is powerful!\n",
    "print(\"rfind:\", text3.rfind(\"Python\"))           # 17\n",
    "print(\"rindex:\", text3.rindex(\"Python\"))         # 17\n",
    "print(\"rjust:\", \"hi\".rjust(5, \"*\"))              # ***hi\n",
    "print(\"rpartition:\", text3.rpartition(\"Python\")) # ('Python is fun, ', 'Python', ' is powerful!')\n",
    "print(\"rsplit:\", text3.rsplit(\",\", 1))           # ['Python is fun', ' Python is powerful!']\n",
    "print(\"rstrip:\", text.rstrip())                  # \" hello world\"\n",
    "print(\"split:\", text3.split(\",\"))                # ['Python is fun', ' Python is powerful!']\n",
    "print(\"splitlines:\", \"a\\nb\\nc\".splitlines())     # ['a', 'b', 'c']\n",
    "print(\"startswith:\", text3.startswith(\"Python\")) # True\n",
    "print(\"strip:\", text.strip())                    # \"hello world\"\n",
    "print(\"swapcase:\", \"Hello\".swapcase())           # hELLO\n",
    "print(\"title:\", text3.title())                   # Python Is Fun, Python Is Powerful!\n",
    "print(\"upper:\", text.upper())                    # HELLO WORLD \n",
    "print(\"zfill:\", \"42\".zfill(5))                   # 00042"
   ]
  }
 ],
 "metadata": {
  "kernelspec": {
   "display_name": "Python 3 (ipykernel)",
   "language": "python",
   "name": "python3"
  },
  "language_info": {
   "codemirror_mode": {
    "name": "ipython",
    "version": 3
   },
   "file_extension": ".py",
   "mimetype": "text/x-python",
   "name": "python",
   "nbconvert_exporter": "python",
   "pygments_lexer": "ipython3",
   "version": "3.13.5"
  }
 },
 "nbformat": 4,
 "nbformat_minor": 5
}
